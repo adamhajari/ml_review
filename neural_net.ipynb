{
 "cells": [
  {
   "cell_type": "code",
   "execution_count": 27,
   "metadata": {},
   "outputs": [],
   "source": [
    "import pandas as pd\n",
    "import numpy as np\n",
    "import matplotlib.pyplot as plt\n",
    "import random\n",
    "\n",
    "%matplotlib inline"
   ]
  },
  {
   "cell_type": "code",
   "execution_count": 34,
   "metadata": {},
   "outputs": [
    {
     "data": {
      "text/plain": [
       "0.2071818560666434"
      ]
     },
     "execution_count": 34,
     "metadata": {},
     "output_type": "execute_result"
    }
   ],
   "source": []
  },
  {
   "cell_type": "code",
   "execution_count": 114,
   "metadata": {},
   "outputs": [
    {
     "data": {
      "image/png": "[encoded data removed]",
      "text/plain": [
       "<Figure size 432x288 with 1 Axes>"
      ]
     },
     "metadata": {
      "needs_background": "light"
     },
     "output_type": "display_data"
    }
   ],
   "source": [
    "def generate_training_data(n):\n",
    "    x0 = np.random.rand(n)\n",
    "    x1 = np.random.rand(n)\n",
    "    labels = [1 if xx0<xx1 else -1 for xx0, xx1 in zip(x0, x1)]\n",
    "    train_data = pd.DataFrame({'x0': x0, 'x1': x1, 'label': labels})\n",
    "    return train_data\n",
    "\n",
    "train_data = generate_training_data(100)\n",
    "groups = train_data.groupby('label')\n",
    "fig, ax = plt.subplots()\n",
    "ax.margins(0.05) # Optional, just adds 5% padding to the autoscaling\n",
    "for name, group in groups:\n",
    "    ax.plot(group.x0, group.x1, marker='o', linestyle='', ms=5, label=name)\n",
    "ax.legend()\n",
    "\n",
    "plt.show()"
   ]
  },
  {
   "cell_type": "code",
   "execution_count": 111,
   "metadata": {},
   "outputs": [],
   "source": [
    "def sign(x):\n",
    "    if x>=0:\n",
    "        return 1\n",
    "    else:\n",
    "        return -1\n",
    "    \n",
    "class Perceptron(object):\n",
    "    def __init__(self, feature_len=2, lr=0.1):\n",
    "        self.weights = [random.uniform(0,1) for i in range(feature_len)]\n",
    "        self.lr = lr\n",
    "    \n",
    "    def guess(self, features):\n",
    "        tot = 0\n",
    "        for i in range(len(features)):\n",
    "            tot += self.weights[i]*features[i]\n",
    "        return sign(tot)\n",
    "    \n",
    "    def train(self, features, target):\n",
    "        guess = self.guess(features)\n",
    "        error = target - guess\n",
    "        \n",
    "        # tune the weights\n",
    "        for i in range(len(features)):\n",
    "            self.weights[i] = self.weights[i] + error * features[i] * self.lr"
   ]
  },
  {
   "cell_type": "code",
   "execution_count": 187,
   "metadata": {},
   "outputs": [
    {
     "data": {
      "text/plain": [
       "208.0"
      ]
     },
     "execution_count": 187,
     "metadata": {},
     "output_type": "execute_result"
    }
   ],
   "source": [
    "train_data = generate_training_data(100)\n",
    "p = Perceptron(lr=0.1)\n",
    "\n",
    "def get_squared_error(train_data, p):\n",
    "    tot_error = 0\n",
    "    for i, row in train_data.iterrows():\n",
    "        features = [row['x0'], row['x1']]\n",
    "        target = row['label']\n",
    "        guess = p.guess(features)\n",
    "        error = target - guess\n",
    "        tot_error += error * error\n",
    "    return tot_error\n",
    "\n",
    "get_squared_error(train_data, p)"
   ]
  },
  {
   "cell_type": "code",
   "execution_count": 192,
   "metadata": {},
   "outputs": [],
   "source": [
    "for i, row in train_data.iterrows():\n",
    "    features = [row['x0'], row['x1']]\n",
    "    target = row['label']\n",
    "    p.train(features, target)\n",
    "    if p.guess(features) != target:\n",
    "        print get_squared_error(train_data, p), p.weights"
   ]
  },
  {
   "cell_type": "code",
   "execution_count": null,
   "metadata": {},
   "outputs": [],
   "source": []
  }
 ],
 "metadata": {
  "kernelspec": {
   "display_name": "Python 2",
   "language": "python",
   "name": "python2"
  },
  "language_info": {
   "codemirror_mode": {
    "name": "ipython",
    "version": 2
   },
   "file_extension": ".py",
   "mimetype": "text/x-python",
   "name": "python",
   "nbconvert_exporter": "python",
   "pygments_lexer": "ipython2",
   "version": "2.7.16"
  }
 },
 "nbformat": 4,
 "nbformat_minor": 2
}
