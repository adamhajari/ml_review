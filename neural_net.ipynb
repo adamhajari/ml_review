{
 "cells": [
  {
   "cell_type": "code",
   "execution_count": 1,
   "metadata": {},
   "outputs": [],
   "source": [
    "import pandas as pd\n",
    "import numpy as np\n",
    "import matplotlib.pyplot as plt\n",
    "import random\n",
    "\n",
    "%matplotlib inline"
   ]
  },
  {
   "cell_type": "code",
   "execution_count": 2,
   "metadata": {},
   "outputs": [
    {
     "data": {
      "image/png": "[encoded data removed]",
      "text/plain": [
       "<Figure size 432x288 with 1 Axes>"
      ]
     },
     "metadata": {
      "needs_background": "light"
     },
     "output_type": "display_data"
    }
   ],
   "source": [
    "def generate_training_data(n):\n",
    "    x0 = np.random.rand(n)\n",
    "    x1 = np.random.rand(n)\n",
    "    labels = [1 if xx0<xx1 else -1 for xx0, xx1 in zip(x0, x1)]\n",
    "    train_data = pd.DataFrame({'x0': x0, 'x1': x1, 'label': labels})\n",
    "    return train_data\n",
    "\n",
    "train_data = generate_training_data(100)\n",
    "groups = train_data.groupby('label')\n",
    "fig, ax = plt.subplots()\n",
    "ax.margins(0.05) # Optional, just adds 5% padding to the autoscaling\n",
    "for name, group in groups:\n",
    "    ax.plot(group.x0, group.x1, marker='o', linestyle='', ms=5, label=name)\n",
    "ax.legend()\n",
    "\n",
    "plt.show()"
   ]
  },
  {
   "cell_type": "code",
   "execution_count": 3,
   "metadata": {},
   "outputs": [],
   "source": [
    "def sign(x):\n",
    "    if x>=0:\n",
    "        return 1\n",
    "    else:\n",
    "        return -1\n",
    "    \n",
    "class Perceptron(object):\n",
    "    def __init__(self, feature_len=2, lr=0.1):\n",
    "        self.weights = [random.uniform(0,1) for i in range(feature_len)]\n",
    "        self.lr = lr\n",
    "    \n",
    "    def guess(self, features):\n",
    "        tot = 0\n",
    "        for i in range(len(features)):\n",
    "            tot += self.weights[i]*features[i]\n",
    "        return sign(tot)\n",
    "    \n",
    "    def train(self, features, target):\n",
    "        guess = self.guess(features)\n",
    "        error = target - guess\n",
    "        \n",
    "        # tune the weights\n",
    "        for i in range(len(features)):\n",
    "            self.weights[i] = self.weights[i] + error * features[i] * self.lr"
   ]
  },
  {
   "cell_type": "code",
   "execution_count": 4,
   "metadata": {},
   "outputs": [
    {
     "data": {
      "text/plain": [
       "220.0"
      ]
     },
     "execution_count": 4,
     "metadata": {},
     "output_type": "execute_result"
    }
   ],
   "source": [
    "train_data = generate_training_data(100)\n",
    "p = Perceptron(lr=0.1)\n",
    "\n",
    "def get_squared_error(train_data, p):\n",
    "    tot_error = 0\n",
    "    for i, row in train_data.iterrows():\n",
    "        features = [row['x0'], row['x1']]\n",
    "        target = row['label']\n",
    "        guess = p.guess(features)\n",
    "        error = target - guess\n",
    "        tot_error += error * error\n",
    "    return tot_error\n",
    "\n",
    "get_squared_error(train_data, p)"
   ]
  },
  {
   "cell_type": "code",
   "execution_count": 6,
   "metadata": {},
   "outputs": [],
   "source": [
    "for i, row in train_data.iterrows():\n",
    "    features = [row['x0'], row['x1']]\n",
    "    target = row['label']\n",
    "    p.train(features, target)\n",
    "    if p.guess(features) != target:\n",
    "        print get_squared_error(train_data, p), p.weights"
   ]
  },
  {
   "cell_type": "code",
   "execution_count": 57,
   "metadata": {},
   "outputs": [],
   "source": [
    "def sigmoid(x):\n",
    "    return 1/(1+np.exp(-x))\n",
    "\n",
    "class NeuralNet(object):\n",
    "    def __init__(self, n_features, n_hidden, n_out):\n",
    "        self.n_features = n_features\n",
    "        self.n_hidden = n_hidden\n",
    "        self.n_out = n_out\n",
    "        \n",
    "        self.weights_ih = np.random.rand(n_hidden, n_features)\n",
    "        self.weights_ho = np.random.rand(n_out, n_hidden)\n",
    "        self.biad_ih = np.random.rand(n_hidden)\n",
    "        self.biad_ho = np.random.rand(n_out)\n",
    "    \n",
    "    def feedforward(self, features_array):\n",
    "        features = np.array(features_array)\n",
    "        hidden = sigmoid(self.weights_ih.dot(features) + self.biad_ih)\n",
    "        output = sigmoid(self.weights_ho.dot(hidden) + self.biad_ho)\n",
    "        return output\n",
    "    \n",
    "    def train(self, features_array, labels_array):\n",
    "        labels = np.array(labels_array)\n",
    "        outputs = self.feedforward(features_array)\n",
    "        errors = labels - outputs\n",
    "        hidden_errors = self.weights_ho.T.dot(errors)\n",
    "        print(hidden_errors)"
   ]
  },
  {
   "cell_type": "code",
   "execution_count": 49,
   "metadata": {},
   "outputs": [
    {
     "data": {
      "text/plain": [
       "array([0.67482399])"
      ]
     },
     "execution_count": 49,
     "metadata": {},
     "output_type": "execute_result"
    }
   ],
   "source": [
    "nn = NeuralNet(2, 2, 1)\n",
    "nn.feedforward([1,0])"
   ]
  },
  {
   "cell_type": "code",
   "execution_count": 58,
   "metadata": {},
   "outputs": [
    {
     "name": "stdout",
     "output_type": "stream",
     "text": [
      "[0.10573944]\n"
     ]
    }
   ],
   "source": [
    "nn.train([1,0], [1])"
   ]
  },
  {
   "cell_type": "code",
   "execution_count": 51,
   "metadata": {},
   "outputs": [
    {
     "data": {
      "text/plain": [
       "array([0.20036597, 0.0719671 ])"
      ]
     },
     "execution_count": 51,
     "metadata": {},
     "output_type": "execute_result"
    }
   ],
   "source": [
    "sigmoid(z.T)"
   ]
  },
  {
   "cell_type": "code",
   "execution_count": 55,
   "metadata": {},
   "outputs": [
    {
     "data": {
      "text/plain": [
       "array([[0.99278767, 0.61654023],\n",
       "       [0.27551427, 0.30262817],\n",
       "       [0.98550114, 0.66824334]])"
      ]
     },
     "execution_count": 55,
     "metadata": {},
     "output_type": "execute_result"
    }
   ],
   "source": [
    "np.random.rand(2, 3).T"
   ]
  },
  {
   "cell_type": "code",
   "execution_count": 53,
   "metadata": {},
   "outputs": [
    {
     "data": {
      "text/plain": [
       "array([-1.38400863, -2.55685804])"
      ]
     },
     "execution_count": 53,
     "metadata": {},
     "output_type": "execute_result"
    }
   ],
   "source": [
    "z.T"
   ]
  },
  {
   "cell_type": "code",
   "execution_count": null,
   "metadata": {},
   "outputs": [],
   "source": []
  }
 ],
 "metadata": {
  "kernelspec": {
   "display_name": "Python 2",
   "language": "python",
   "name": "python2"
  },
  "language_info": {
   "codemirror_mode": {
    "name": "ipython",
    "version": 2
   },
   "file_extension": ".py",
   "mimetype": "text/x-python",
   "name": "python",
   "nbconvert_exporter": "python",
   "pygments_lexer": "ipython2",
   "version": "2.7.16"
  }
 },
 "nbformat": 4,
 "nbformat_minor": 2
}
