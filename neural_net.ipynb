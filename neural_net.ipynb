{
 "cells": [
  {
   "cell_type": "code",
   "execution_count": 3,
   "metadata": {},
   "outputs": [],
   "source": [
    "import pandas as pd\n",
    "import numpy as np\n",
    "import matplotlib.pyplot as plt\n",
    "import random\n",
    "\n",
    "%matplotlib inline"
   ]
  },
  {
   "cell_type": "code",
   "execution_count": 4,
   "metadata": {},
   "outputs": [
    {
     "data": {
      "image/png": "[encoded data removed]",
      "text/plain": [
       "<Figure size 432x288 with 1 Axes>"
      ]
     },
     "metadata": {
      "needs_background": "light"
     },
     "output_type": "display_data"
    }
   ],
   "source": [
    "def generate_training_data(n):\n",
    "    x0 = np.random.rand(n)\n",
    "    x1 = np.random.rand(n)\n",
    "    labels = [1 if xx0<xx1 else -1 for xx0, xx1 in zip(x0, x1)]\n",
    "    train_data = pd.DataFrame({'x0': x0, 'x1': x1, 'label': labels})\n",
    "    return train_data\n",
    "\n",
    "train_data = generate_training_data(100)\n",
    "groups = train_data.groupby('label')\n",
    "fig, ax = plt.subplots()\n",
    "ax.margins(0.05) # Optional, just adds 5% padding to the autoscaling\n",
    "for name, group in groups:\n",
    "    ax.plot(group.x0, group.x1, marker='o', linestyle='', ms=5, label=name)\n",
    "ax.legend()\n",
    "\n",
    "plt.show()"
   ]
  },
  {
   "cell_type": "code",
   "execution_count": 5,
   "metadata": {},
   "outputs": [],
   "source": [
    "def sign(x):\n",
    "    if x>=0:\n",
    "        return 1\n",
    "    else:\n",
    "        return -1\n",
    "    \n",
    "class Perceptron(object):\n",
    "    def __init__(self, feature_len=2, lr=0.1):\n",
    "        self.weights = [random.uniform(0,1) for i in range(feature_len)]\n",
    "        self.lr = lr\n",
    "    \n",
    "    def guess(self, features):\n",
    "        tot = 0\n",
    "        for i in range(len(features)):\n",
    "            tot += self.weights[i]*features[i]\n",
    "        return sign(tot)\n",
    "    \n",
    "    def train(self, features, target):\n",
    "        guess = self.guess(features)\n",
    "        error = target - guess\n",
    "        \n",
    "        # tune the weights\n",
    "        for i in range(len(features)):\n",
    "            self.weights[i] = self.weights[i] + error * features[i] * self.lr"
   ]
  },
  {
   "cell_type": "code",
   "execution_count": 6,
   "metadata": {},
   "outputs": [
    {
     "data": {
      "text/plain": [
       "184.0"
      ]
     },
     "execution_count": 6,
     "metadata": {},
     "output_type": "execute_result"
    }
   ],
   "source": [
    "train_data = generate_training_data(100)\n",
    "p = Perceptron(lr=0.1)\n",
    "\n",
    "def get_squared_error(train_data, p):\n",
    "    tot_error = 0\n",
    "    for i, row in train_data.iterrows():\n",
    "        features = [row['x0'], row['x1']]\n",
    "        target = row['label']\n",
    "        guess = p.guess(features)\n",
    "        error = target - guess\n",
    "        tot_error += error * error\n",
    "    return tot_error\n",
    "\n",
    "get_squared_error(train_data, p)"
   ]
  },
  {
   "cell_type": "code",
   "execution_count": 7,
   "metadata": {},
   "outputs": [
    {
     "name": "stdout",
     "output_type": "stream",
     "text": [
      "184.0 [0.24122459562989595, 0.2045860022685012]\n",
      "184.0 [0.10704892138981545, 0.12080941642472266]\n",
      "184.0 [0.00407283545814216, 0.045542634277231625]\n",
      "156.0 [-0.30977015878434155, 0.0841373248383296]\n"
     ]
    }
   ],
   "source": [
    "for i, row in train_data.iterrows():\n",
    "    features = [row['x0'], row['x1']]\n",
    "    target = row['label']\n",
    "    p.train(features, target)\n",
    "    if p.guess(features) != target:\n",
    "        print get_squared_error(train_data, p), p.weights"
   ]
  },
  {
   "cell_type": "code",
   "execution_count": 124,
   "metadata": {},
   "outputs": [],
   "source": [
    "def sigmoid(x):\n",
    "    return 1/(1+np.exp(-x))\n",
    "\n",
    "class NeuralNet(object):\n",
    "    def __init__(self, n_features, n_hidden, n_out):\n",
    "        self.learning_rate = 0.1\n",
    "        self.n_features = n_features\n",
    "        self.n_hidden = n_hidden\n",
    "        self.n_out = n_out\n",
    "        \n",
    "        self.weights_ih = np.random.rand(n_hidden, n_features)\n",
    "        self.weights_ho = np.random.rand(n_out, n_hidden)\n",
    "        self.bias_ih = np.random.rand(n_hidden)\n",
    "        self.bias_ho = np.random.rand(n_out)\n",
    "    \n",
    "    def get_backward_errors(self, weights, errors):\n",
    "        return weights.T.dot(errors)\n",
    "    \n",
    "    def feedforward(self, features_array):\n",
    "        features = np.array(features_array)\n",
    "        hidden = sigmoid(self.weights_ih.dot(features) + self.bias_ih)\n",
    "        output = sigmoid(self.weights_ho.dot(hidden) + self.bias_ho)\n",
    "        return output\n",
    "    \n",
    "    def learn(self, features_array, labels_array):\n",
    "        labels = np.array(labels_array)\n",
    "#         outputs = self.feedforward(features_array)\n",
    "        features = np.array(features_array)\n",
    "        hidden = sigmoid(self.weights_ih.dot(features) + self.bias_ih)\n",
    "        \n",
    "        outputs = sigmoid(self.weights_ho.dot(hidden) + self.bias_ho)\n",
    "        \n",
    "        output_errors = labels - outputs\n",
    "        gradient = outputs * (1 - outputs)\n",
    "        delta_weights_ho = self.learning_rate * np.array(gradient.dot(output_errors)).dot(hidden.T)\n",
    "        self.weights_ho = self.weights_ho + delta_weights_ho\n",
    "        self.bias_ho = self.bias_ho + self.learning_rate * np.array(gradient.dot(output_errors))\n",
    "        \n",
    "        hidden_errors = self.get_backward_errors(self.weights_ho, output_errors)\n",
    "        hidden_gradient = hidden * (1 - hidden)\n",
    "        delta_weights_ih = self.learning_rate * np.array(hidden_errors.dot(hidden_gradient)).dot(features.T)\n",
    "        self.weights_ih = self.weights_ih + delta_weights_ih\n",
    "        self.bias_ih = self.bias_ih + self.learning_rate * np.array(hidden_errors.dot(hidden_gradient))\n",
    "        \n",
    "    def evaluate(self, features_array):\n",
    "        return self.feedforward(features_array)\n",
    "        "
   ]
  },
  {
   "cell_type": "code",
   "execution_count": 125,
   "metadata": {},
   "outputs": [
    {
     "data": {
      "text/plain": [
       "array([0.73818907])"
      ]
     },
     "execution_count": 125,
     "metadata": {},
     "output_type": "execute_result"
    }
   ],
   "source": [
    "nn = NeuralNet(2, 2, 1)\n",
    "nn.feedforward([1,0])"
   ]
  },
  {
   "cell_type": "code",
   "execution_count": null,
   "metadata": {},
   "outputs": [],
   "source": []
  },
  {
   "cell_type": "code",
   "execution_count": 140,
   "metadata": {},
   "outputs": [],
   "source": [
    "features = np.array([[1, 0], [0, 1], [1, 1], [0, 0]])\n",
    "labels = np.array([[1], [1], [0], [0]])\n",
    "for i in np.random.choice(4, 100000):\n",
    "    nn.learn(features[i], labels[i])"
   ]
  },
  {
   "cell_type": "code",
   "execution_count": 141,
   "metadata": {},
   "outputs": [
    {
     "name": "stdout",
     "output_type": "stream",
     "text": [
      "[0.70992133]\n",
      "[0.70991971]\n",
      "[0.71027621]\n",
      "[0.01804897]\n"
     ]
    }
   ],
   "source": [
    "print(nn.evaluate([1, 0]))\n",
    "print(nn.evaluate([0, 1]))\n",
    "print(nn.evaluate([1, 1]))\n",
    "print(nn.evaluate([0, 0]))"
   ]
  },
  {
   "cell_type": "code",
   "execution_count": null,
   "metadata": {},
   "outputs": [],
   "source": [
    "sigmoid(z.T)"
   ]
  },
  {
   "cell_type": "code",
   "execution_count": 20,
   "metadata": {},
   "outputs": [
    {
     "data": {
      "text/plain": [
       "array([1, 2, 3])"
      ]
     },
     "execution_count": 20,
     "metadata": {},
     "output_type": "execute_result"
    }
   ],
   "source": [
    "test = np.array([1,2,3])\n",
    "test"
   ]
  },
  {
   "cell_type": "code",
   "execution_count": 21,
   "metadata": {},
   "outputs": [
    {
     "data": {
      "text/plain": [
       "array([ 0, -2, -6])"
      ]
     },
     "execution_count": 21,
     "metadata": {},
     "output_type": "execute_result"
    }
   ],
   "source": [
    "test * (1 - test)"
   ]
  },
  {
   "cell_type": "code",
   "execution_count": null,
   "metadata": {},
   "outputs": [],
   "source": []
  }
 ],
 "metadata": {
  "kernelspec": {
   "display_name": "Python 2",
   "language": "python",
   "name": "python2"
  },
  "language_info": {
   "codemirror_mode": {
    "name": "ipython",
    "version": 2
   },
   "file_extension": ".py",
   "mimetype": "text/x-python",
   "name": "python",
   "nbconvert_exporter": "python",
   "pygments_lexer": "ipython2",
   "version": "2.7.16"
  }
 },
 "nbformat": 4,
 "nbformat_minor": 2
}
