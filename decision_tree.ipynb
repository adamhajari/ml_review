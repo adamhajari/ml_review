{
 "cells": [
  {
   "cell_type": "code",
   "execution_count": 411,
   "metadata": {},
   "outputs": [],
   "source": [
    "import numpy as np\n",
    "import pandas as pd\n",
    "from scipy import stats\n",
    "from math import exp, log\n",
    "from collections import deque\n",
    "from sklearn.linear_model import LogisticRegression\n",
    "\n",
    "from toy_data import generate_training_data, plot_data\n",
    "\n",
    "%matplotlib inline"
   ]
  },
  {
   "cell_type": "code",
   "execution_count": 450,
   "metadata": {},
   "outputs": [
    {
     "data": {
      "image/png": "[encoded data removed]",
      "text/plain": [
       "<Figure size 432x288 with 1 Axes>"
      ]
     },
     "metadata": {
      "needs_background": "light"
     },
     "output_type": "display_data"
    }
   ],
   "source": [
    "toy_data = generate_training_data(100, -0.5, 1)\n",
    "plot_data(toy_data)"
   ]
  },
  {
   "cell_type": "code",
   "execution_count": 451,
   "metadata": {},
   "outputs": [],
   "source": [
    "features = np.array(toy_data.drop('label', axis=1))\n",
    "labels = np.array(toy_data['label'])"
   ]
  },
  {
   "cell_type": "code",
   "execution_count": 484,
   "metadata": {},
   "outputs": [],
   "source": [
    "def gini(x):\n",
    "    n = len(x)\n",
    "    if n==0:\n",
    "        return 0\n",
    "    ones = np.sum(x)\n",
    "    zeros = n - ones\n",
    "    p0 = 1.0*zeros/n\n",
    "    p1 = 1.0*ones/n\n",
    "    return p0*(1-p0) + p1*(1-p1)\n",
    "\n",
    "def info_gain(x, y, split_val):\n",
    "    n = len(x)\n",
    "    splitL = y[x<split_val]\n",
    "    splitR = y[x>=split_val]\n",
    "    return gini(y) - ((1.0*len(splitL)/n)*gini(splitL) + (1.0*len(splitR)/n)*gini(splitR))\n",
    "\n",
    "def find_best_split_value(x, y, n_splits=10):\n",
    "    splits = np.quantile(x, q=np.arange(0, 1, 1.0/n_splits))\n",
    "    max_gain = -1\n",
    "    for split in splits:\n",
    "        gain = info_gain(x, y, split)\n",
    "        if gain > max_gain:\n",
    "            best_split = split\n",
    "            max_gain = gain\n",
    "    return (best_split, max_gain)\n",
    "\n",
    "def find_best_split(features, labels):\n",
    "    n_cols = features.shape[1]\n",
    "    max_gain = -1\n",
    "    for i in range(n_cols):\n",
    "        features_i = features[:, i]\n",
    "        split, gain = find_best_split_value(features_i, labels, n_splits=10)\n",
    "        if gain > max_gain:\n",
    "            max_gain = gain\n",
    "            best_split_value = split\n",
    "            best_feature_index = i\n",
    "    return (best_feature_index, best_split_value)\n",
    "\n",
    "\n",
    "class node(object):\n",
    "    def __init__(self, features, labels, depth):\n",
    "        self.features = features\n",
    "        self.labels = labels\n",
    "        self.gini = gini(labels)\n",
    "        self.depth = depth\n",
    "        self.split_feature_index = None\n",
    "        self.split_value = None\n",
    "        self.left_child = None\n",
    "        self.right_child = None\n",
    "        self.major_class = None\n",
    "    \n",
    "    def set_split(self, split_feature_index, split_value):\n",
    "        self.split_feature_index = split_feature_index\n",
    "        self.split_value = split_value\n",
    "        self.left_child = self.get_child('left', split_feature_index, split_value)\n",
    "        self.right_child = self.get_child('right', split_feature_index, split_value)\n",
    "    \n",
    "    def clear_data(self):\n",
    "        self.features = None\n",
    "        self.labels = None\n",
    "    \n",
    "    def get_child(self, side, index, split_value):\n",
    "        if side == 'left':\n",
    "            condition = self.features[:, index]<split_value\n",
    "        if side == 'right':\n",
    "            condition = self.features[:, index]>=split_value\n",
    "        child_labels = self.labels[condition]\n",
    "        child_features = self.features[condition, :]\n",
    "        return node(child_features, child_labels, self.depth+1)\n",
    "    \n",
    "    def trickle(self, features):\n",
    "        \"\"\"used by predict method to predict label from feature vector\"\"\"\n",
    "        if self.split_feature_index is None:\n",
    "            return None\n",
    "        if features[self.split_feature_index] < self.split_value:\n",
    "            return self.left_child\n",
    "        else:\n",
    "            return self.right_child\n",
    "    \n",
    "    def __str__(self):\n",
    "        return \"split_feature_index: %s, split_value: %s\" % (self.split_feature_index, self.split_value)\n",
    "        "
   ]
  },
  {
   "cell_type": "code",
   "execution_count": 485,
   "metadata": {},
   "outputs": [],
   "source": [
    "class DecisionTree(object):\n",
    "    def __init__(self, max_depth):\n",
    "        self.max_depth = max_depth\n",
    "\n",
    "    def fit(self, features, labels):\n",
    "        features = np.array(features)\n",
    "        labels = np.array(labels)\n",
    "        leaves = deque([node(features, labels, 0)])\n",
    "        while len(leaves) > 0:\n",
    "            leaf = leaves.popleft()\n",
    "            if leaf.gini > 0 and leaf.depth < self.max_depth:\n",
    "                best_feature_index, best_split_value = find_best_split(leaf.features, leaf.labels)\n",
    "                leaf.set_split(best_feature_index, best_split_value)\n",
    "                leaf.clear_data()\n",
    "                leaves.append(leaf.left_child)\n",
    "                leaves.append(leaf.right_child)\n",
    "            else:\n",
    "                leaf.major_class = stats.mode(leaf.labels).mode[0]\n",
    "            if leaf.depth == 0:\n",
    "                self.root = leaf\n",
    "    \n",
    "    def predict(self, features):\n",
    "        features = np.array(features)\n",
    "        leaf = self.root\n",
    "        while leaf.major_class is None:\n",
    "            leaf = leaf.trickle(features)\n",
    "        return leaf.major_class"
   ]
  },
  {
   "cell_type": "code",
   "execution_count": 492,
   "metadata": {},
   "outputs": [],
   "source": [
    "dt = DecisionTree(3)\n",
    "dt.fit(features, labels)"
   ]
  },
  {
   "cell_type": "code",
   "execution_count": 493,
   "metadata": {},
   "outputs": [
    {
     "name": "stdout",
     "output_type": "stream",
     "text": [
      "(array([-2.36923084,  3.53572072]), 1)\n"
     ]
    },
    {
     "data": {
      "text/plain": [
       "1"
      ]
     },
     "execution_count": 493,
     "metadata": {},
     "output_type": "execute_result"
    }
   ],
   "source": [
    "import random\n",
    "i = random.randint(0, len(labels)-1)\n",
    "print(features[i], labels[i])\n",
    "dt.predict(features[i])"
   ]
  },
  {
   "cell_type": "code",
   "execution_count": 147,
   "metadata": {},
   "outputs": [
    {
     "data": {
      "text/plain": [
       "<matplotlib.axes._subplots.AxesSubplot at 0x1a17afb950>"
      ]
     },
     "execution_count": 147,
     "metadata": {},
     "output_type": "execute_result"
    },
    {
     "data": {
      "image/png": "[encoded data removed]",
      "text/plain": [
       "<Figure size 432x288 with 1 Axes>"
      ]
     },
     "metadata": {
      "needs_background": "light"
     },
     "output_type": "display_data"
    }
   ],
   "source": [
    "y = toy_data['label']\n",
    "x = toy_data['x0']\n",
    "splits = x.quantile(np.arange(0, 1, 0.01))\n",
    "pd.DataFrame([info_gain(x, y, split) for split in splits], index=splits).plot()"
   ]
  },
  {
   "cell_type": "code",
   "execution_count": 142,
   "metadata": {},
   "outputs": [
    {
     "data": {
      "text/plain": [
       "<matplotlib.axes._subplots.AxesSubplot at 0x1a179f5c90>"
      ]
     },
     "execution_count": 142,
     "metadata": {},
     "output_type": "execute_result"
    },
    {
     "data": {
      "image/png": "[encoded data removed]",
      "text/plain": [
       "<Figure size 432x288 with 1 Axes>"
      ]
     },
     "metadata": {
      "needs_background": "light"
     },
     "output_type": "display_data"
    }
   ],
   "source": [
    "splits = x.quantile(np.arange(0, 1, 0.1))\n",
    "pd.DataFrame([info_gain(x, y, split) for split in splits], index=splits).plot()"
   ]
  },
  {
   "cell_type": "code",
   "execution_count": null,
   "metadata": {},
   "outputs": [],
   "source": []
  }
 ],
 "metadata": {
  "kernelspec": {
   "display_name": "Python 2",
   "language": "python",
   "name": "python2"
  },
  "language_info": {
   "codemirror_mode": {
    "name": "ipython",
    "version": 2
   },
   "file_extension": ".py",
   "mimetype": "text/x-python",
   "name": "python",
   "nbconvert_exporter": "python",
   "pygments_lexer": "ipython2",
   "version": "2.7.16"
  }
 },
 "nbformat": 4,
 "nbformat_minor": 2
}
